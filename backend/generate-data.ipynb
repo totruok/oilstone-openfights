{
 "cells": [
  {
   "cell_type": "code",
   "execution_count": 254,
   "metadata": {
    "ExecuteTime": {
     "end_time": "2017-09-16T21:52:54.789045Z",
     "start_time": "2017-09-16T21:52:54.784680Z"
    }
   },
   "outputs": [],
   "source": [
    "import random\n",
    "import numpy as np\n",
    "import pandas as pd\n",
    "from numpy.random import choice\n",
    "import datetime\n",
    "import pickle\n",
    "import json"
   ]
  },
  {
   "cell_type": "code",
   "execution_count": 275,
   "metadata": {
    "ExecuteTime": {
     "end_time": "2017-09-16T22:53:10.342844Z",
     "start_time": "2017-09-16T22:53:10.339315Z"
    },
    "collapsed": true
   },
   "outputs": [],
   "source": [
    "random.seed(4)\n",
    "np.random.seed(4)"
   ]
  },
  {
   "cell_type": "code",
   "execution_count": 276,
   "metadata": {
    "ExecuteTime": {
     "end_time": "2017-09-16T22:53:22.510174Z",
     "start_time": "2017-09-16T22:53:22.497975Z"
    },
    "collapsed": true
   },
   "outputs": [],
   "source": [
    "def get_random_with_weight(data):\n",
    "    weigts = [i['weight'] for i in data]\n",
    "    probs = [i/np.sum(weigts) for i in weigts] \n",
    "    return data[choice(len(data), 1, p=probs)[0]]"
   ]
  },
  {
   "cell_type": "code",
   "execution_count": 376,
   "metadata": {
    "ExecuteTime": {
     "end_time": "2017-09-17T11:05:54.044291Z",
     "start_time": "2017-09-17T11:05:54.012210Z"
    }
   },
   "outputs": [],
   "source": [
    "f = open('word_rus.txt')\n",
    "words = f.readlines()\n",
    "words = [i.strip() for i in words]"
   ]
  },
  {
   "cell_type": "code",
   "execution_count": 386,
   "metadata": {
    "ExecuteTime": {
     "end_time": "2017-09-17T11:14:23.138931Z",
     "start_time": "2017-09-17T11:14:23.131888Z"
    }
   },
   "outputs": [],
   "source": [
    "words_subset = [words[random.randint(0, len(words)-1)] for i in range(40)]\n",
    "def get_random_russian_word():\n",
    "    return words_subset[random.randint(0, len(words_subset)-1)]"
   ]
  },
  {
   "cell_type": "code",
   "execution_count": 400,
   "metadata": {
    "ExecuteTime": {
     "end_time": "2017-09-17T11:21:30.853576Z",
     "start_time": "2017-09-17T11:21:30.831195Z"
    },
    "collapsed": true
   },
   "outputs": [],
   "source": [
    "purchase_types = [\n",
    "    {\n",
    "        'name': 'Покупка в супермаркете',\n",
    "        'min': 20,\n",
    "        'max': 10000,\n",
    "        'weight': 20,\n",
    "    },\n",
    "    {\n",
    "        'name': 'АЗС',\n",
    "        'min': 100,\n",
    "        'max': 2000,\n",
    "        'weight': 10,\n",
    "    },\n",
    "    {\n",
    "        'name': 'Снятие наличных',\n",
    "        'min': 500,\n",
    "        'max': 15000,\n",
    "        'weight': 50,\n",
    "    },\n",
    "    {\n",
    "        'name': 'Покупка *',\n",
    "        'min': 0,\n",
    "        'max': 150000,\n",
    "        'weight': 70,\n",
    "    },\n",
    "]\n",
    "\n",
    "with open('purchase_types.pkl', 'wb') as handle:\n",
    "    pickle.dump(purchase_types, handle, protocol=pickle.HIGHEST_PROTOCOL)\n",
    "    \n",
    "purchase_types = None\n",
    "with open('purchase_types.pkl', 'rb') as handle:\n",
    "    purchase_types = pickle.load(handle)"
   ]
  },
  {
   "cell_type": "code",
   "execution_count": 478,
   "metadata": {
    "ExecuteTime": {
     "end_time": "2017-09-17T12:29:09.504729Z",
     "start_time": "2017-09-17T12:29:09.295210Z"
    }
   },
   "outputs": [],
   "source": [
    "subscribtion_types = [\n",
    "    {\n",
    "        'id': 0,\n",
    "        'name':\n",
    "        'Amediateka',\n",
    "        'description':\n",
    "        'Сервис для просмотра фильмов',\n",
    "        'logo':\n",
    "        'http://apps4all.ru/media/ru/blog/56782d125a5380.37100262.png',\n",
    "        'min': 350*100,\n",
    "        'max': 370*100,\n",
    "        'first_payment': 359*100,\n",
    "        'payment_days': [26],\n",
    "        'max_cost': 15,\n",
    "        'active': True,\n",
    "        'live_time_months': 3,\n",
    "        'url': 'https://youtube.com',\n",
    "        'stars': 4,\n",
    "        'recomendations': [subscribtion_types[1], subscribtion_types[2]],\n",
    "        'comments': [{\n",
    "            'user': 'Игорь',\n",
    "            'text': 'Отличная замена телику',\n",
    "        }, {\n",
    "            'user': 'Иван',\n",
    "            'text': 'Лучший сервис на планете',\n",
    "        }, {\n",
    "            'user': 'Коля',\n",
    "            'text': 'Вполне неплохо',\n",
    "        }],\n",
    "    },\n",
    "    {\n",
    "        'id': 1,\n",
    "        'name': 'ЖКХ',\n",
    "        'description':\n",
    "        'Комунальные услуги',\n",
    "        'logo':\n",
    "        'http://consalt-expert.ru/sites/default/files/languages/SRO_JKH.JPG',\n",
    "        'min': 4000*100,\n",
    "        'max': 7000*100,\n",
    "        'first_payment': 5341*100,\n",
    "        'payment_days': [12],\n",
    "        'max_cost': 50,\n",
    "        'url': 'https://pgu.mos.ru',\n",
    "        'stars':\n",
    "        1,\n",
    "        'comments': [{\n",
    "            'user': 'Игорь',\n",
    "            'text': 'Говна кусок',\n",
    "        }, {\n",
    "            'user':\n",
    "            'Иван',\n",
    "            'text':\n",
    "            'АААААААА ЧТО ЭТО ЗА ХРЕНОТЕНЬ?????!!?!?!?! МНЕ ВЫСТАВИЛИ СЧЁТ ЗА КОШКУ В ГОРШКЕ',\n",
    "        }, {\n",
    "            'user': 'Коля',\n",
    "            'text': 'СРАНЬ!!!!!!!!!!',\n",
    "        }],\n",
    "        'live_time_months': 24,\n",
    "        'active': False,\n",
    "        'recomendations': [subscribtion_types[0], subscribtion_types[2]]\n",
    "    },\n",
    "    {\n",
    "        'id': 2,\n",
    "        'name': 'Netflix',\n",
    "        'description':\n",
    "        'Американский сервис для просмотра фильмов и сериалов',\n",
    "        'logo':\n",
    "        'https://lh5.googleusercontent.com/-9El0rLwfX5E/AAAAAAAAAAI/AAAAAAAAJsg/6oFhatwR0Jg/s0-c-k-no-ns/photo.jpg',\n",
    "        'min': 600*100,\n",
    "        'max': 900*100,\n",
    "        'first_payment': 650*100,\n",
    "        'payment_days': [31],\n",
    "        'max_cost': 10,\n",
    "        'url': 'https://www.netflix.com/ru/',\n",
    "        'stars':\n",
    "        3,\n",
    "        'comments': [{\n",
    "            'user': 'Игорь',\n",
    "            'text': 'Отличная замена телику',\n",
    "        }, {\n",
    "            'user': 'Иван',\n",
    "            'text': 'Лучший сервис на планете',\n",
    "        }, {\n",
    "            'user': 'Коля',\n",
    "            'text': 'Вполне неплохо',\n",
    "        }],\n",
    "        'live_time_months': 9,\n",
    "        'active': False,\n",
    "        'recomendations': [subscribtion_types[0], subscribtion_types[3]]\n",
    "    },\n",
    "    {\n",
    "        'id': 3,\n",
    "        'name': 'Qclean',\n",
    "        'description':\n",
    "        'Уборка в квартире',\n",
    "        'logo':\n",
    "        'https://pbs.twimg.com/profile_images/621057579507036160/x_2TDJLi.png',\n",
    "        'min': 2000*100,\n",
    "        'max': 3000*100,\n",
    "        'first_payment': 2650*100,\n",
    "        'payment_days': [1,14,20,31],\n",
    "        'max_cost': 10,\n",
    "        'url': 'https://qlean.ru/',\n",
    "        'stars':\n",
    "        5,\n",
    "        'comments': [{\n",
    "            'user': 'Игорь',\n",
    "            'text': 'Отличная замена телику',\n",
    "        }, {\n",
    "            'user': 'Иван',\n",
    "            'text': 'Лучший сервис на планете',\n",
    "        }, {\n",
    "            'user': 'Коля',\n",
    "            'text': 'Вполне неплохо',\n",
    "        }],\n",
    "        'live_time_months': 9,\n",
    "        'active': True,\n",
    "        'recomendations': [subscribtion_types[0], subscribtion_types[2]]\n",
    "    },\n",
    "]\n",
    "\n",
    "with open('subscribtion_types.pkl', 'wb') as handle:\n",
    "    pickle.dump(subscribtion_types, handle, protocol=pickle.HIGHEST_PROTOCOL)\n",
    "    \n",
    "subscribtion_types = None\n",
    "with open('subscribtion_types.pkl', 'rb') as handle:\n",
    "    subscribtion_types = pickle.load(handle)"
   ]
  },
  {
   "cell_type": "code",
   "execution_count": null,
   "metadata": {
    "collapsed": true
   },
   "outputs": [],
   "source": []
  },
  {
   "cell_type": "code",
   "execution_count": 443,
   "metadata": {
    "ExecuteTime": {
     "end_time": "2017-09-17T12:11:26.469658Z",
     "start_time": "2017-09-17T12:11:25.565229Z"
    }
   },
   "outputs": [],
   "source": [
    "card_ids = [random.randint(0, int(\"9\" * 16)) for i in range(10)]\n",
    "card_ids = [\n",
    "    9731875055002762, 7267061812381166, 216436350147307]\n",
    "cards_info = {}\n",
    "female_names = ['Анна', 'Екатерина']\n",
    "male_names = ['Никита', 'Алексей']\n",
    "user_photos = {\n",
    "    'Анна': 'http://f.totruok.ru/Monosnap_2017-09-16_19-53-14.png',\n",
    "    'Екатерина': 'http://f.totruok.ru/Monosnap_2017-09-16_19-47-05.png',\n",
    "    'Никита': 'http://f.totruok.ru/Monosnap_2017-09-16_19-55-29.png',\n",
    "    'Алексей': 'http://f.totruok.ru/Monosnap_2017-09-16_19-55-56.png',\n",
    "}\n",
    "\n",
    "for card_id in card_ids:\n",
    "    user_shopcart = {\n",
    "        i: [get_random_russian_word() for i in range(random.randint(4, 20))]\n",
    "        for i in user_photos.keys()\n",
    "    }\n",
    "    _card = {}\n",
    "    user_shopcart = {\n",
    "        i: [get_random_russian_word() for i in range(random.randint(4, 20))]\n",
    "        for i in user_photos.keys()\n",
    "    }\n",
    "    _card['id'] = card_id\n",
    "    _card['balance'] = random.randint(0, 1000000000)\n",
    "    _card['cur'] = \"RUB\"\n",
    "    _card['owners'] = [\n",
    "        female_names[random.randint(0, len(female_names) - 1)],\n",
    "        male_names[random.randint(0, len(male_names) - 1)]\n",
    "    ]\n",
    "    _transactions = []\n",
    "\n",
    "    for owner in _card['owners']:\n",
    "        # generate simple purchases\n",
    "        for _index in range(1300):\n",
    "            purchases_type = get_random_with_weight(purchase_types)\n",
    "            transaction_date = random.randint(1451606400, 1504224000)\n",
    "            _transaction = {\n",
    "                'TransactionPlace':\n",
    "                purchases_type['name'].replace('*', user_shopcart[owner][\n",
    "                    random.randint(0, len(user_shopcart[owner]) - 1)]),\n",
    "                'TransactionSum':\n",
    "                '-{}'.format(\n",
    "                    random.randint(purchases_type['min'], purchases_type[\n",
    "                        'max'])),\n",
    "                'TransactionDate':\n",
    "                datetime.datetime.fromtimestamp(transaction_date).strftime(\n",
    "                    '%Y.%m.%d'),\n",
    "                'TransactionOwner':\n",
    "                owner,\n",
    "                'TransactionPhotoUrl':\n",
    "                user_photos[owner],\n",
    "                'TransactionSubscrition':\n",
    "                None\n",
    "            }\n",
    "            _transactions.append(_transaction)\n",
    "        # generate income\n",
    "        for _index in range(300):\n",
    "            transaction_date = random.randint(1451606400, 1504224000)\n",
    "            _transaction = {\n",
    "                'TransactionPlace':\n",
    "                'Пополнение',\n",
    "                'TransactionSum':\n",
    "                '+{}'.format(random.randint(100, 100000) * 100),\n",
    "                'TransactionDate':\n",
    "                datetime.datetime.fromtimestamp(transaction_date).strftime(\n",
    "                    '%Y.%m.%d'),\n",
    "                'TransactionOwner':\n",
    "                owner,\n",
    "                'TransactionPhotoUrl':\n",
    "                user_photos[owner],\n",
    "                'TransactionSubscrition':\n",
    "                None\n",
    "            }\n",
    "            _transactions.append(_transaction)\n",
    "    # generate subscribtions purchases\n",
    "    for sub in subscribtion_types:\n",
    "        break_flag = False\n",
    "        for year in range(2015, 2018):\n",
    "            if break_flag:\n",
    "                break\n",
    "            for month in range(1, 13):\n",
    "                if break_flag:\n",
    "                    break\n",
    "                for day in range(1, 32):\n",
    "                    if (year == 2017) and (month == 9) and (day == 1):\n",
    "                        break_flag = True\n",
    "                        break\n",
    "                    if day in sub['payment_days']:\n",
    "                        _transaction = {\n",
    "                            'TransactionPlace':\n",
    "                            sub['name'],\n",
    "                            'TransactionSum':\n",
    "                            '-{}'.format(random.randint(sub['min'], sub['max'])),\n",
    "                            'TransactionDate':\n",
    "                            '{}.{:02}.{:02}'.format(year, month, day),\n",
    "                            'TransactionOwner':\n",
    "                            'Автоплатёж',\n",
    "                            'TransactionPhotoUrl':\n",
    "                            'https://i.pinimg.com/originals/9e/e4/a6/9ee4a64469336c1109775f11f25363ff.png',\n",
    "                            'TransactionSubscrition':\n",
    "                            sub\n",
    "                        }\n",
    "                        _transactions.append(_transaction)\n",
    "\n",
    "    random.shuffle(_transactions)\n",
    "    _card['transactions'] = sorted(\n",
    "        _transactions, key=lambda k: k['TransactionDate'], reverse=True)\n",
    "    _card['subscribtions'] = subscribtion_types\n",
    "    cards_info[_card['id']] = _card"
   ]
  },
  {
   "cell_type": "code",
   "execution_count": 444,
   "metadata": {
    "ExecuteTime": {
     "end_time": "2017-09-17T12:11:31.523046Z",
     "start_time": "2017-09-17T12:11:31.504484Z"
    }
   },
   "outputs": [],
   "source": [
    "with open('cards_info.pkl', 'wb') as handle:\n",
    "    pickle.dump(cards_info, handle, protocol=pickle.HIGHEST_PROTOCOL)"
   ]
  },
  {
   "cell_type": "code",
   "execution_count": null,
   "metadata": {
    "collapsed": true
   },
   "outputs": [],
   "source": []
  },
  {
   "cell_type": "code",
   "execution_count": 434,
   "metadata": {
    "ExecuteTime": {
     "end_time": "2017-09-17T11:55:21.653164Z",
     "start_time": "2017-09-17T11:55:21.649084Z"
    }
   },
   "outputs": [
    {
     "data": {
      "text/plain": [
       "2624"
      ]
     },
     "execution_count": 434,
     "metadata": {},
     "output_type": "execute_result"
    }
   ],
   "source": [
    "len(cards_info[9731875055002762]['transactions'])"
   ]
  },
  {
   "cell_type": "code",
   "execution_count": 445,
   "metadata": {
    "ExecuteTime": {
     "end_time": "2017-09-17T12:11:43.176697Z",
     "start_time": "2017-09-17T12:11:43.174225Z"
    }
   },
   "outputs": [],
   "source": [
    "# cards_info[9731875055002762]['transactions']"
   ]
  },
  {
   "cell_type": "code",
   "execution_count": 452,
   "metadata": {
    "ExecuteTime": {
     "end_time": "2017-09-17T12:14:16.073120Z",
     "start_time": "2017-09-17T12:14:16.056717Z"
    }
   },
   "outputs": [],
   "source": [
    "_df = pd.DataFrame(cards_info[9731875055002762]['transactions'])"
   ]
  },
  {
   "cell_type": "code",
   "execution_count": 455,
   "metadata": {
    "ExecuteTime": {
     "end_time": "2017-09-17T12:14:32.574976Z",
     "start_time": "2017-09-17T12:14:32.570646Z"
    }
   },
   "outputs": [
    {
     "data": {
      "text/plain": [
       "Index(['TransactionDate', 'TransactionOwner', 'TransactionPhotoUrl',\n",
       "       'TransactionPlace', 'TransactionSubscrition', 'TransactionSum'],\n",
       "      dtype='object')"
      ]
     },
     "execution_count": 455,
     "metadata": {},
     "output_type": "execute_result"
    }
   ],
   "source": [
    "_df.columns"
   ]
  },
  {
   "cell_type": "code",
   "execution_count": 473,
   "metadata": {
    "ExecuteTime": {
     "end_time": "2017-09-17T12:22:30.560298Z",
     "start_time": "2017-09-17T12:22:30.555996Z"
    },
    "collapsed": true
   },
   "outputs": [],
   "source": [
    "import matplotlib\n",
    "import matplotlib.pyplot as plt\n",
    "%matplotlib inline"
   ]
  },
  {
   "cell_type": "code",
   "execution_count": 477,
   "metadata": {
    "ExecuteTime": {
     "end_time": "2017-09-17T12:25:07.198739Z",
     "start_time": "2017-09-17T12:25:06.824037Z"
    }
   },
   "outputs": [
    {
     "data": {
      "text/plain": [
       "(array([ 31.,  39.,   0.,   0.,   0.,   0.,   0.,   0.,   0.,   0.,   1.,\n",
       "          0.,   0.,   1.,   0.,   0.,   0.,   0.,   0.,   0.,   0.,   0.,\n",
       "          0.,   0.,   0.,   0.,   0.,   1.,   0.,   0.,   1.,   0.,   0.,\n",
       "          1.,   0.,   1.,   0.,   0.,   0.,   0.,   0.,   1.,   0.,   1.,\n",
       "          0.,   0.,   0.,   2.,   0.,   0.,   0.,   0.,   0.,   0.,   0.,\n",
       "          2.,   0.,   0.,   0.,   0.,   0.,   0.,   0.,   0.,   1.,   0.,\n",
       "          0.,   0.,   0.,   0.,   0.,   0.,   0.,   0.,   0.,   0.,   0.,\n",
       "          0.,   0.,   0.,   0.,   1.,   0.,   0.,   0.,   0.,   0.,   0.,\n",
       "          0.,   0.,   0.,   0.,   0.,   0.,   0.,   0.,   0.,   0.,   0.,\n",
       "          1.]),\n",
       " array([ -148759.  ,   -55599.41,    37560.18,   130719.77,   223879.36,\n",
       "          317038.95,   410198.54,   503358.13,   596517.72,   689677.31,\n",
       "          782836.9 ,   875996.49,   969156.08,  1062315.67,  1155475.26,\n",
       "         1248634.85,  1341794.44,  1434954.03,  1528113.62,  1621273.21,\n",
       "         1714432.8 ,  1807592.39,  1900751.98,  1993911.57,  2087071.16,\n",
       "         2180230.75,  2273390.34,  2366549.93,  2459709.52,  2552869.11,\n",
       "         2646028.7 ,  2739188.29,  2832347.88,  2925507.47,  3018667.06,\n",
       "         3111826.65,  3204986.24,  3298145.83,  3391305.42,  3484465.01,\n",
       "         3577624.6 ,  3670784.19,  3763943.78,  3857103.37,  3950262.96,\n",
       "         4043422.55,  4136582.14,  4229741.73,  4322901.32,  4416060.91,\n",
       "         4509220.5 ,  4602380.09,  4695539.68,  4788699.27,  4881858.86,\n",
       "         4975018.45,  5068178.04,  5161337.63,  5254497.22,  5347656.81,\n",
       "         5440816.4 ,  5533975.99,  5627135.58,  5720295.17,  5813454.76,\n",
       "         5906614.35,  5999773.94,  6092933.53,  6186093.12,  6279252.71,\n",
       "         6372412.3 ,  6465571.89,  6558731.48,  6651891.07,  6745050.66,\n",
       "         6838210.25,  6931369.84,  7024529.43,  7117689.02,  7210848.61,\n",
       "         7304008.2 ,  7397167.79,  7490327.38,  7583486.97,  7676646.56,\n",
       "         7769806.15,  7862965.74,  7956125.33,  8049284.92,  8142444.51,\n",
       "         8235604.1 ,  8328763.69,  8421923.28,  8515082.87,  8608242.46,\n",
       "         8701402.05,  8794561.64,  8887721.23,  8980880.82,  9074040.41,\n",
       "         9167200.  ]),\n",
       " <a list of 100 Patch objects>)"
      ]
     },
     "execution_count": 477,
     "metadata": {},
     "output_type": "execute_result"
    },
    {
     "data": {
      "image/png": "[encoded data removed]",
      "text/plain": [
       "<matplotlib.figure.Figure at 0x13cf4fc88>"
      ]
     },
     "metadata": {},
     "output_type": "display_data"
    }
   ],
   "source": [
    "plt.hist(\n",
    "    _df[(_df['TransactionDate'] >= '2017.08.01') &\n",
    "        (_df['TransactionOwner'] == 'Екатерина')]['TransactionSum'].astype(\n",
    "            int),\n",
    "    bins=100)"
   ]
  },
  {
   "cell_type": "code",
   "execution_count": 467,
   "metadata": {
    "ExecuteTime": {
     "end_time": "2017-09-17T12:21:25.176357Z",
     "start_time": "2017-09-17T12:21:25.164197Z"
    }
   },
   "outputs": [
    {
     "data": {
      "text/plain": [
       "70351912"
      ]
     },
     "execution_count": 467,
     "metadata": {},
     "output_type": "execute_result"
    }
   ],
   "source": [
    "_df[(_df['TransactionDate'] >= '2017.08.01') &\n",
    "    (_df['TransactionOwner'] == 'Алексей')]['TransactionSum'].astype(\n",
    "        int).sum()"
   ]
  },
  {
   "cell_type": "code",
   "execution_count": 468,
   "metadata": {
    "ExecuteTime": {
     "end_time": "2017-09-17T12:21:34.202531Z",
     "start_time": "2017-09-17T12:21:34.195037Z"
    }
   },
   "outputs": [
    {
     "data": {
      "text/plain": [
       "57931774"
      ]
     },
     "execution_count": 468,
     "metadata": {},
     "output_type": "execute_result"
    }
   ],
   "source": [
    "_df[(_df['TransactionDate'] >= '2017.08.01') &\n",
    "    (_df['TransactionOwner'] == 'Екатерина')]['TransactionSum'].astype(\n",
    "        int).sum()"
   ]
  },
  {
   "cell_type": "code",
   "execution_count": 450,
   "metadata": {
    "ExecuteTime": {
     "end_time": "2017-09-17T12:12:25.855447Z",
     "start_time": "2017-09-17T12:12:25.851615Z"
    }
   },
   "outputs": [
    {
     "data": {
      "text/plain": [
       "['Екатерина', 'Алексей']"
      ]
     },
     "execution_count": 450,
     "metadata": {},
     "output_type": "execute_result"
    }
   ],
   "source": [
    "cards_info[9731875055002762]['owners']"
   ]
  },
  {
   "cell_type": "code",
   "execution_count": null,
   "metadata": {
    "collapsed": true
   },
   "outputs": [],
   "source": [
    "users = []\n",
    "\n",
    "for card in card_info:\n",
    "    card_info[users] = [\"{}_{}\".format(card, i) for i in cards_info3[9731875055002762]['owners']]\n",
    "    for i in card_info[users]:\n",
    "        _df = pd.DataFrame(cards_info[9731875055002762]['transactions'])\n",
    "        _df\n",
    "        "
   ]
  },
  {
   "cell_type": "code",
   "execution_count": null,
   "metadata": {
    "collapsed": true
   },
   "outputs": [],
   "source": [
    "# сделать расстояние между пользователями\n",
    "# сделать xboost для прежсказания трат в следующем месяце"
   ]
  },
  {
   "cell_type": "code",
   "execution_count": null,
   "metadata": {
    "collapsed": true
   },
   "outputs": [],
   "source": []
  }
 ],
 "metadata": {
  "kernelspec": {
   "display_name": "Python 3",
   "language": "python",
   "name": "python3"
  },
  "language_info": {
   "codemirror_mode": {
    "name": "ipython",
    "version": 3
   },
   "file_extension": ".py",
   "mimetype": "text/x-python",
   "name": "python",
   "nbconvert_exporter": "python",
   "pygments_lexer": "ipython3",
   "version": "3.6.2"
  },
  "varInspector": {
   "cols": {
    "lenName": 16,
    "lenType": 16,
    "lenVar": 40
   },
   "kernels_config": {
    "python": {
     "delete_cmd_postfix": "",
     "delete_cmd_prefix": "del ",
     "library": "var_list.py",
     "varRefreshCmd": "print(var_dic_list())"
    },
    "r": {
     "delete_cmd_postfix": ") ",
     "delete_cmd_prefix": "rm(",
     "library": "var_list.r",
     "varRefreshCmd": "cat(var_dic_list()) "
    }
   },
   "types_to_exclude": [
    "module",
    "function",
    "builtin_function_or_method",
    "instance",
    "_Feature"
   ],
   "window_display": false
  }
 },
 "nbformat": 4,
 "nbformat_minor": 2
}
