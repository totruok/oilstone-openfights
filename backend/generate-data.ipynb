{
 "cells": [
  {
   "cell_type": "code",
   "execution_count": 254,
   "metadata": {
    "ExecuteTime": {
     "end_time": "2017-09-16T21:52:54.789045Z",
     "start_time": "2017-09-16T21:52:54.784680Z"
    }
   },
   "outputs": [],
   "source": [
    "import random\n",
    "import numpy as np\n",
    "import pandas as pd\n",
    "from numpy.random import choice\n",
    "import datetime\n",
    "import pickle\n",
    "import json"
   ]
  },
  {
   "cell_type": "code",
   "execution_count": 275,
   "metadata": {
    "ExecuteTime": {
     "end_time": "2017-09-16T22:53:10.342844Z",
     "start_time": "2017-09-16T22:53:10.339315Z"
    },
    "collapsed": true
   },
   "outputs": [],
   "source": [
    "random.seed(4)\n",
    "np.random.seed(4)"
   ]
  },
  {
   "cell_type": "code",
   "execution_count": 276,
   "metadata": {
    "ExecuteTime": {
     "end_time": "2017-09-16T22:53:22.510174Z",
     "start_time": "2017-09-16T22:53:22.497975Z"
    },
    "collapsed": true
   },
   "outputs": [],
   "source": [
    "def get_random_with_weight(data):\n",
    "    weigts = [i['weight'] for i in data]\n",
    "    probs = [i/np.sum(weigts) for i in weigts] \n",
    "    return data[choice(len(data), 1, p=probs)[0]]"
   ]
  },
  {
   "cell_type": "code",
   "execution_count": 376,
   "metadata": {
    "ExecuteTime": {
     "end_time": "2017-09-17T11:05:54.044291Z",
     "start_time": "2017-09-17T11:05:54.012210Z"
    }
   },
   "outputs": [],
   "source": [
    "f = open('word_rus.txt')\n",
    "words = f.readlines()\n",
    "words = [i.strip() for i in words]"
   ]
  },
  {
   "cell_type": "code",
   "execution_count": 386,
   "metadata": {
    "ExecuteTime": {
     "end_time": "2017-09-17T11:14:23.138931Z",
     "start_time": "2017-09-17T11:14:23.131888Z"
    }
   },
   "outputs": [],
   "source": [
    "words_subset = [words[random.randint(0, len(words)-1)] for i in range(40)]\n",
    "def get_random_russian_word():\n",
    "    return words_subset[random.randint(0, len(words_subset)-1)]"
   ]
  },
  {
   "cell_type": "code",
   "execution_count": 400,
   "metadata": {
    "ExecuteTime": {
     "end_time": "2017-09-17T11:21:30.853576Z",
     "start_time": "2017-09-17T11:21:30.831195Z"
    },
    "collapsed": true
   },
   "outputs": [],
   "source": [
    "purchase_types = [\n",
    "    {\n",
    "        'name': 'Покупка в супермаркете',\n",
    "        'min': 20,\n",
    "        'max': 10000,\n",
    "        'weight': 20,\n",
    "    },\n",
    "    {\n",
    "        'name': 'АЗС',\n",
    "        'min': 100,\n",
    "        'max': 2000,\n",
    "        'weight': 10,\n",
    "    },\n",
    "    {\n",
    "        'name': 'Снятие наличных',\n",
    "        'min': 500,\n",
    "        'max': 15000,\n",
    "        'weight': 50,\n",
    "    },\n",
    "    {\n",
    "        'name': 'Покупка *',\n",
    "        'min': 0,\n",
    "        'max': 150000,\n",
    "        'weight': 70,\n",
    "    },\n",
    "]\n",
    "\n",
    "with open('purchase_types.pkl', 'wb') as handle:\n",
    "    pickle.dump(purchase_types, handle, protocol=pickle.HIGHEST_PROTOCOL)\n",
    "    \n",
    "purchase_types = None\n",
    "with open('purchase_types.pkl', 'rb') as handle:\n",
    "    purchase_types = pickle.load(handle)"
   ]
  },
  {
   "cell_type": "code",
   "execution_count": 401,
   "metadata": {
    "ExecuteTime": {
     "end_time": "2017-09-17T11:21:31.681014Z",
     "start_time": "2017-09-17T11:21:31.503813Z"
    }
   },
   "outputs": [],
   "source": [
    "subscribtion_types = [\n",
    "    {\n",
    "        'id': 0,\n",
    "        'name':\n",
    "        'Amediateka',\n",
    "        'description':\n",
    "        'Сервис для просмотра фильмов',\n",
    "        'logo':\n",
    "        'http://apps4all.ru/media/ru/blog/56782d125a5380.37100262.png',\n",
    "        'min': 350*100,\n",
    "        'max': 370*100,\n",
    "        'first_payment': 359*100,\n",
    "        'payment_days': [26],\n",
    "        'max_cost': 15,\n",
    "        'active': True,\n",
    "        'live_time_months': 3,\n",
    "        'url': 'https://youtube.com',\n",
    "        'stars': 4,\n",
    "        'recomendations': [2, 3],\n",
    "        'comments': [{\n",
    "            'user': 'Игорь',\n",
    "            'text': 'Отличная замена телику',\n",
    "        }, {\n",
    "            'user': 'Иван',\n",
    "            'text': 'Лучший сервис на планете',\n",
    "        }, {\n",
    "            'user': 'Коля',\n",
    "            'text': 'Вполне неплохо',\n",
    "        }],\n",
    "    },\n",
    "    {\n",
    "        'id': 1,\n",
    "        'name': 'ЖКХ',\n",
    "        'description':\n",
    "        'Комунальные услуги',\n",
    "        'logo':\n",
    "        'http://consalt-expert.ru/sites/default/files/languages/SRO_JKH.JPG',\n",
    "        'min': 4000*100,\n",
    "        'max': 7000*100,\n",
    "        'first_payment': 5341*100,\n",
    "        'payment_days': [12],\n",
    "        'max_cost': 50,\n",
    "        'url': 'https://pgu.mos.ru',\n",
    "        'stars':\n",
    "        1,\n",
    "        'comments': [{\n",
    "            'user': 'Игорь',\n",
    "            'text': 'Говна кусок',\n",
    "        }, {\n",
    "            'user':\n",
    "            'Иван',\n",
    "            'text':\n",
    "            'АААААААА ЧТО ЭТО ЗА ХРЕНОТЕНЬ?????!!?!?!?! МНЕ ВЫСТАВИЛИ СЧЁТ ЗА КОШКУ В ГОРШКЕ',\n",
    "        }, {\n",
    "            'user': 'Коля',\n",
    "            'text': 'СРАНЬ!!!!!!!!!!',\n",
    "        }],\n",
    "        'live_time_months': 24,\n",
    "        'active': False,\n",
    "        'recomendations': [1, 3]\n",
    "    },\n",
    "    {\n",
    "        'id': 2,\n",
    "        'name': 'Netflix',\n",
    "        'description':\n",
    "        'Американский сервис для просмотра фильмов и сериалов',\n",
    "        'logo':\n",
    "        'https://lh5.googleusercontent.com/-9El0rLwfX5E/AAAAAAAAAAI/AAAAAAAAJsg/6oFhatwR0Jg/s0-c-k-no-ns/photo.jpg',\n",
    "        'min': 600*100,\n",
    "        'max': 900*100,\n",
    "        'first_payment': 650*100,\n",
    "        'payment_days': [31],\n",
    "        'max_cost': 10,\n",
    "        'url': 'https://www.netflix.com/ru/',\n",
    "        'stars':\n",
    "        3,\n",
    "        'comments': [{\n",
    "            'user': 'Игорь',\n",
    "            'text': 'Отличная замена телику',\n",
    "        }, {\n",
    "            'user': 'Иван',\n",
    "            'text': 'Лучший сервис на планете',\n",
    "        }, {\n",
    "            'user': 'Коля',\n",
    "            'text': 'Вполне неплохо',\n",
    "        }],\n",
    "        'live_time_months': 9,\n",
    "        'active': False,\n",
    "        'recomendations': [1, 4]\n",
    "    },\n",
    "    {\n",
    "        'id': 3,\n",
    "        'name': 'Qclean',\n",
    "        'description':\n",
    "        'Уборка в квартире',\n",
    "        'logo':\n",
    "        'https://pbs.twimg.com/profile_images/621057579507036160/x_2TDJLi.png',\n",
    "        'min': 2000*100,\n",
    "        'max': 3000*100,\n",
    "        'first_payment': 2650*100,\n",
    "        'payment_days': [1,14,20,31],\n",
    "        'max_cost': 10,\n",
    "        'url': 'https://qlean.ru/',\n",
    "        'stars':\n",
    "        5,\n",
    "        'comments': [{\n",
    "            'user': 'Игорь',\n",
    "            'text': 'Отличная замена телику',\n",
    "        }, {\n",
    "            'user': 'Иван',\n",
    "            'text': 'Лучший сервис на планете',\n",
    "        }, {\n",
    "            'user': 'Коля',\n",
    "            'text': 'Вполне неплохо',\n",
    "        }],\n",
    "        'live_time_months': 9,\n",
    "        'active': True,\n",
    "        'recomendations': [1, 3]\n",
    "    },\n",
    "]\n",
    "\n",
    "with open('subscribtion_types.pkl', 'wb') as handle:\n",
    "    pickle.dump(subscribtion_types, handle, protocol=pickle.HIGHEST_PROTOCOL)\n",
    "    \n",
    "subscribtion_types = None\n",
    "with open('subscribtion_types.pkl', 'rb') as handle:\n",
    "    subscribtion_types = pickle.load(handle)"
   ]
  },
  {
   "cell_type": "code",
   "execution_count": null,
   "metadata": {
    "collapsed": true
   },
   "outputs": [],
   "source": []
  },
  {
   "cell_type": "code",
   "execution_count": 421,
   "metadata": {
    "ExecuteTime": {
     "end_time": "2017-09-17T11:46:33.788886Z",
     "start_time": "2017-09-17T11:46:19.722847Z"
    }
   },
   "outputs": [],
   "source": [
    "card_ids = [random.randint(0, int(\"9\" * 16)) for i in range(10)]\n",
    "card_ids = [\n",
    "    9731875055002762, 7267061812381166, 216436350147307]\n",
    "cards_info = {}\n",
    "female_names = ['Анна', 'Екатерина']\n",
    "male_names = ['Никита', 'Алексей']\n",
    "user_photos = {\n",
    "    'Анна': 'http://f.totruok.ru/Monosnap_2017-09-16_19-53-14.png',\n",
    "    'Екатерина': 'http://f.totruok.ru/Monosnap_2017-09-16_19-47-05.png',\n",
    "    'Никита': 'http://f.totruok.ru/Monosnap_2017-09-16_19-55-29.png',\n",
    "    'Алексей': 'http://f.totruok.ru/Monosnap_2017-09-16_19-55-56.png',\n",
    "}\n",
    "user_shopcart = {\n",
    "    i: [get_random_russian_word() for i in range(random.randint(4, 20))]\n",
    "    for i in user_photos.keys()\n",
    "}\n",
    "\n",
    "for card_id in card_ids:\n",
    "    _card = {}\n",
    "    _card['id'] = card_id\n",
    "    _card['balance'] = random.randint(0, 1000000000)\n",
    "    _card['cur'] = \"RUB\"\n",
    "    _card['owners'] = [\n",
    "        female_names[random.randint(0, len(female_names) - 1)],\n",
    "        male_names[random.randint(0, len(male_names) - 1)]\n",
    "    ]\n",
    "    _transactions = []\n",
    "\n",
    "    for owner in _card['owners']:\n",
    "        # generate simple purchases\n",
    "        for _index in range(25000):\n",
    "            purchases_type = get_random_with_weight(purchase_types)\n",
    "            transaction_date = random.randint(1462060800, 1504224000)\n",
    "            _transaction = {\n",
    "                'TransactionPlace':\n",
    "                purchases_type['name'].replace('*', user_shopcart[owner][\n",
    "                    random.randint(0, len(user_shopcart[owner]) - 1)]),\n",
    "                'TransactionSum':\n",
    "                '-{}'.format(\n",
    "                    random.randint(purchases_type['min'], purchases_type[\n",
    "                        'max'])),\n",
    "                'TransactionDate':\n",
    "                datetime.datetime.fromtimestamp(transaction_date).strftime(\n",
    "                    '%Y.%m.%d'),\n",
    "                'TransactionOwner':\n",
    "                owner,\n",
    "                'TransactionPhotoUrl':\n",
    "                user_photos[owner],\n",
    "                'TransactionSubscrition':\n",
    "                None\n",
    "            }\n",
    "            _transactions.append(_transaction)\n",
    "        # generate income\n",
    "        for _index in range(6000):\n",
    "            transaction_date = random.randint(1462060800, 1504224000)\n",
    "            _transaction = {\n",
    "                'TransactionPlace':\n",
    "                'Пополнение',\n",
    "                'TransactionSum':\n",
    "                '+{}'.format(random.randint(100, 100000) * 100),\n",
    "                'TransactionDate':\n",
    "                datetime.datetime.fromtimestamp(transaction_date).strftime(\n",
    "                    '%Y.%m.%d'),\n",
    "                'TransactionOwner':\n",
    "                owner,\n",
    "                'TransactionPhotoUrl':\n",
    "                user_photos[owner],\n",
    "                'TransactionSubscrition':\n",
    "                None\n",
    "            }\n",
    "            _transactions.append(_transaction)\n",
    "    # generate subscribtions purchases\n",
    "    for sub in subscribtion_types:\n",
    "        for year in range(2015, 2018):\n",
    "            for month in range(1, 13):\n",
    "                for day in range(1, 32):\n",
    "                    if (year == 2017) and (month == 9) and (day == 1):\n",
    "                        break\n",
    "                    if day in sub['payment_days']:\n",
    "                        _transaction = {\n",
    "                            'TransactionPlace':\n",
    "                            sub['name'],\n",
    "                            'TransactionSum':\n",
    "                            '-{}'.format(random.randint(sub['min'], sub['max'])),\n",
    "                            'TransactionDate':\n",
    "                            '{}.{:02}.{:02}'.format(year, month, day),\n",
    "                            'TransactionOwner':\n",
    "                            'Автоплатёж',\n",
    "                            'TransactionPhotoUrl':\n",
    "                            'https://i.pinimg.com/originals/9e/e4/a6/9ee4a64469336c1109775f11f25363ff.png',\n",
    "                            'TransactionSubscrition':\n",
    "                            sub\n",
    "                        }\n",
    "                        _transactions.append(_transaction)\n",
    "\n",
    "    random.shuffle(_transactions)\n",
    "    _card['transactions'] = sorted(\n",
    "        _transactions, key=lambda k: k['TransactionDate'], reverse=True)\n",
    "    _card['subscribtions'] = subscribtion_types\n",
    "    cards_info[_card['id']] = _card"
   ]
  },
  {
   "cell_type": "code",
   "execution_count": null,
   "metadata": {
    "ExecuteTime": {
     "end_time": "2017-09-17T11:46:34.735215Z",
     "start_time": "2017-09-17T11:46:25.296Z"
    }
   },
   "outputs": [],
   "source": [
    "with open('cards_info.pkl', 'wb') as handle:\n",
    "    pickle.dump(cards_info, handle, protocol=pickle.HIGHEST_PROTOCOL)"
   ]
  },
  {
   "cell_type": "code",
   "execution_count": null,
   "metadata": {
    "collapsed": true
   },
   "outputs": [],
   "source": []
  },
  {
   "cell_type": "code",
   "execution_count": 420,
   "metadata": {
    "ExecuteTime": {
     "end_time": "2017-09-17T11:45:38.183334Z",
     "start_time": "2017-09-17T11:45:38.178761Z"
    }
   },
   "outputs": [
    {
     "data": {
      "text/plain": [
       "62245"
      ]
     },
     "execution_count": 420,
     "metadata": {},
     "output_type": "execute_result"
    }
   ],
   "source": [
    "len(cards_info[9731875055002762]['transactions'])"
   ]
  },
  {
   "cell_type": "code",
   "execution_count": null,
   "metadata": {
    "collapsed": true
   },
   "outputs": [],
   "source": [
    "users = []\n",
    "\n",
    "for card in card_info:\n",
    "    card_info[car]"
   ]
  },
  {
   "cell_type": "code",
   "execution_count": null,
   "metadata": {
    "collapsed": true
   },
   "outputs": [],
   "source": []
  }
 ],
 "metadata": {
  "kernelspec": {
   "display_name": "Python 3",
   "language": "python",
   "name": "python3"
  },
  "language_info": {
   "codemirror_mode": {
    "name": "ipython",
    "version": 3
   },
   "file_extension": ".py",
   "mimetype": "text/x-python",
   "name": "python",
   "nbconvert_exporter": "python",
   "pygments_lexer": "ipython3",
   "version": "3.6.2"
  },
  "varInspector": {
   "cols": {
    "lenName": 16,
    "lenType": 16,
    "lenVar": 40
   },
   "kernels_config": {
    "python": {
     "delete_cmd_postfix": "",
     "delete_cmd_prefix": "del ",
     "library": "var_list.py",
     "varRefreshCmd": "print(var_dic_list())"
    },
    "r": {
     "delete_cmd_postfix": ") ",
     "delete_cmd_prefix": "rm(",
     "library": "var_list.r",
     "varRefreshCmd": "cat(var_dic_list()) "
    }
   },
   "types_to_exclude": [
    "module",
    "function",
    "builtin_function_or_method",
    "instance",
    "_Feature"
   ],
   "window_display": false
  }
 },
 "nbformat": 4,
 "nbformat_minor": 2
}
