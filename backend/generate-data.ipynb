{
 "cells": [
  {
   "cell_type": "code",
   "execution_count": 254,
   "metadata": {
    "ExecuteTime": {
     "end_time": "2017-09-16T21:52:54.789045Z",
     "start_time": "2017-09-16T21:52:54.784680Z"
    }
   },
   "outputs": [],
   "source": [
    "import random\n",
    "import numpy as np\n",
    "import pandas as pd\n",
    "from numpy.random import choice\n",
    "import datetime\n",
    "import pickle\n",
    "import json"
   ]
  },
  {
   "cell_type": "code",
   "execution_count": 275,
   "metadata": {
    "ExecuteTime": {
     "end_time": "2017-09-16T22:53:10.342844Z",
     "start_time": "2017-09-16T22:53:10.339315Z"
    },
    "collapsed": true
   },
   "outputs": [],
   "source": [
    "random.seed(4)\n",
    "np.random.seed(4)"
   ]
  },
  {
   "cell_type": "code",
   "execution_count": 276,
   "metadata": {
    "ExecuteTime": {
     "end_time": "2017-09-16T22:53:22.510174Z",
     "start_time": "2017-09-16T22:53:22.497975Z"
    },
    "collapsed": true
   },
   "outputs": [],
   "source": [
    "def get_random_with_weight(data):\n",
    "    weigts = [i['weight'] for i in data]\n",
    "    probs = [i / np.sum(weigts) for i in weigts]\n",
    "    return data[choice(len(data), 1, p=probs)[0]]"
   ]
  },
  {
   "cell_type": "code",
   "execution_count": 376,
   "metadata": {
    "ExecuteTime": {
     "end_time": "2017-09-17T11:05:54.044291Z",
     "start_time": "2017-09-17T11:05:54.012210Z"
    }
   },
   "outputs": [],
   "source": [
    "f = open('word_rus.txt')\n",
    "words = f.readlines()\n",
    "words = [i.strip() for i in words]"
   ]
  },
  {
   "cell_type": "code",
   "execution_count": 386,
   "metadata": {
    "ExecuteTime": {
     "end_time": "2017-09-17T11:14:23.138931Z",
     "start_time": "2017-09-17T11:14:23.131888Z"
    }
   },
   "outputs": [],
   "source": [
    "words_subset = [words[random.randint(0, len(words) - 1)] for i in range(40)]\n",
    "\n",
    "\n",
    "def get_random_russian_word():\n",
    "    return words_subset[random.randint(0, len(words_subset) - 1)]"
   ]
  },
  {
   "cell_type": "code",
   "execution_count": 400,
   "metadata": {
    "ExecuteTime": {
     "end_time": "2017-09-17T11:21:30.853576Z",
     "start_time": "2017-09-17T11:21:30.831195Z"
    },
    "collapsed": true
   },
   "outputs": [],
   "source": [
    "purchase_types = [\n",
    "    {\n",
    "        'name': 'Покупка в супермаркете',\n",
    "        'min': 20,\n",
    "        'max': 10000,\n",
    "        'weight': 20,\n",
    "    },\n",
    "    {\n",
    "        'name': 'АЗС',\n",
    "        'min': 100,\n",
    "        'max': 2000,\n",
    "        'weight': 10,\n",
    "    },\n",
    "    {\n",
    "        'name': 'Снятие наличных',\n",
    "        'min': 500,\n",
    "        'max': 15000,\n",
    "        'weight': 50,\n",
    "    },\n",
    "    {\n",
    "        'name': 'Покупка *',\n",
    "        'min': 0,\n",
    "        'max': 150000,\n",
    "        'weight': 70,\n",
    "    },\n",
    "]\n",
    "\n",
    "with open('purchase_types.pkl', 'wb') as handle:\n",
    "    pickle.dump(purchase_types, handle, protocol=pickle.HIGHEST_PROTOCOL)\n",
    "\n",
    "purchase_types = None\n",
    "with open('purchase_types.pkl', 'rb') as handle:\n",
    "    purchase_types = pickle.load(handle)"
   ]
  },
  {
   "cell_type": "code",
   "execution_count": 482,
   "metadata": {
    "ExecuteTime": {
     "end_time": "2017-09-17T12:36:43.245646Z",
     "start_time": "2017-09-17T12:36:43.021283Z"
    }
   },
   "outputs": [],
   "source": [
    "subscribtion_types = [\n",
    "    {\n",
    "        'id':\n",
    "        0,\n",
    "        'name':\n",
    "        'Amediateka',\n",
    "        'description':\n",
    "        'Сервис для просмотра фильмов',\n",
    "        'logo':\n",
    "        'http://apps4all.ru/media/ru/blog/56782d125a5380.37100262.png',\n",
    "        'min':\n",
    "        350 * 100,\n",
    "        'max':\n",
    "        370 * 100,\n",
    "        'first_payment':\n",
    "        359 * 100,\n",
    "        'payment_days': [26],\n",
    "        'max_cost':\n",
    "        15,\n",
    "        'active':\n",
    "        True,\n",
    "        'live_time_months':\n",
    "        3,\n",
    "        'url':\n",
    "        'https://youtube.com',\n",
    "        'stars':\n",
    "        4,\n",
    "        'recomendations': [1, 2],\n",
    "        'comments': [{\n",
    "            'user': 'Игорь',\n",
    "            'text': 'Отличная замена телику',\n",
    "        }, {\n",
    "            'user': 'Иван',\n",
    "            'text': 'Лучший сервис на планете',\n",
    "        }, {\n",
    "            'user': 'Коля',\n",
    "            'text': 'Вполне неплохо',\n",
    "        }],\n",
    "    },\n",
    "    {\n",
    "        'id':\n",
    "        1,\n",
    "        'name':\n",
    "        'ЖКХ',\n",
    "        'description':\n",
    "        'Комунальные услуги',\n",
    "        'logo':\n",
    "        'http://consalt-expert.ru/sites/default/files/languages/SRO_JKH.JPG',\n",
    "        'min':\n",
    "        4000 * 100,\n",
    "        'max':\n",
    "        7000 * 100,\n",
    "        'first_payment':\n",
    "        5341 * 100,\n",
    "        'payment_days': [12],\n",
    "        'max_cost':\n",
    "        50,\n",
    "        'url':\n",
    "        'https://pgu.mos.ru',\n",
    "        'stars':\n",
    "        1,\n",
    "        'comments': [{\n",
    "            'user': 'Игорь',\n",
    "            'text': 'Говна кусок',\n",
    "        }, {\n",
    "            'user':\n",
    "            'Иван',\n",
    "            'text':\n",
    "            'АААААААА ЧТО ЭТО ЗА ХРЕНОТЕНЬ?????!!?!?!?! МНЕ ВЫСТАВИЛИ СЧЁТ ЗА КОШКУ В ГОРШКЕ',\n",
    "        }, {\n",
    "            'user': 'Коля',\n",
    "            'text': 'СРАНЬ!!!!!!!!!!',\n",
    "        }],\n",
    "        'live_time_months':\n",
    "        24,\n",
    "        'active':\n",
    "        False,\n",
    "        'recomendations': [0, 2]\n",
    "    },\n",
    "    {\n",
    "        'id':\n",
    "        2,\n",
    "        'name':\n",
    "        'Netflix',\n",
    "        'description':\n",
    "        'Американский сервис для просмотра фильмов и сериалов',\n",
    "        'logo':\n",
    "        'https://lh5.googleusercontent.com/-9El0rLwfX5E/AAAAAAAAAAI/AAAAAAAAJsg/6oFhatwR0Jg/s0-c-k-no-ns/photo.jpg',\n",
    "        'min':\n",
    "        600 * 100,\n",
    "        'max':\n",
    "        900 * 100,\n",
    "        'first_payment':\n",
    "        650 * 100,\n",
    "        'payment_days': [31],\n",
    "        'max_cost':\n",
    "        10,\n",
    "        'url':\n",
    "        'https://www.netflix.com/ru/',\n",
    "        'stars':\n",
    "        3,\n",
    "        'comments': [{\n",
    "            'user': 'Игорь',\n",
    "            'text': 'Отличная замена телику',\n",
    "        }, {\n",
    "            'user': 'Иван',\n",
    "            'text': 'Лучший сервис на планете',\n",
    "        }, {\n",
    "            'user': 'Коля',\n",
    "            'text': 'Вполне неплохо',\n",
    "        }],\n",
    "        'live_time_months':\n",
    "        9,\n",
    "        'active':\n",
    "        False,\n",
    "        'recomendations': [0, 3]\n",
    "    },\n",
    "    {\n",
    "        'id':\n",
    "        3,\n",
    "        'name':\n",
    "        'Qclean',\n",
    "        'description':\n",
    "        'Уборка в квартире',\n",
    "        'logo':\n",
    "        'https://pbs.twimg.com/profile_images/621057579507036160/x_2TDJLi.png',\n",
    "        'min':\n",
    "        2000 * 100,\n",
    "        'max':\n",
    "        3000 * 100,\n",
    "        'first_payment':\n",
    "        2650 * 100,\n",
    "        'payment_days': [1, 14, 20, 31],\n",
    "        'max_cost':\n",
    "        10,\n",
    "        'url':\n",
    "        'https://qlean.ru/',\n",
    "        'stars':\n",
    "        5,\n",
    "        'comments': [{\n",
    "            'user': 'Игорь',\n",
    "            'text': 'Отличная замена телику',\n",
    "        }, {\n",
    "            'user': 'Иван',\n",
    "            'text': 'Лучший сервис на планете',\n",
    "        }, {\n",
    "            'user': 'Коля',\n",
    "            'text': 'Вполне неплохо',\n",
    "        }],\n",
    "        'live_time_months':\n",
    "        9,\n",
    "        'active':\n",
    "        True,\n",
    "        'recomendations': [0, 2]\n",
    "    },\n",
    "]\n",
    "\n",
    "for i in subscribtion_types:\n",
    "    _rec = []\n",
    "    for j in i['recomendations']:\n",
    "        _rec_ = {\n",
    "            'name': subscribtion_types[j]['name'],\n",
    "            'description': subscribtion_types[j]['description'],\n",
    "            'logo': subscribtion_types[j]['logo'],\n",
    "            'url': subscribtion_types[j]['url'],\n",
    "            'stars': subscribtion_types[j]['stars']\n",
    "        }\n",
    "        _rec.append(_rec_)\n",
    "    i['recomendations'] = _rec\n",
    "\n",
    "with open('subscribtion_types.pkl', 'wb') as handle:\n",
    "    pickle.dump(subscribtion_types, handle, protocol=pickle.HIGHEST_PROTOCOL)\n",
    "\n",
    "subscribtion_types = None\n",
    "with open('subscribtion_types.pkl', 'rb') as handle:\n",
    "    subscribtion_types = pickle.load(handle)"
   ]
  },
  {
   "cell_type": "code",
   "execution_count": 506,
   "metadata": {
    "ExecuteTime": {
     "end_time": "2017-09-17T12:46:05.821340Z",
     "start_time": "2017-09-17T12:46:05.816664Z"
    }
   },
   "outputs": [
    {
     "data": {
      "text/plain": [
       "[1391879415375927,\n",
       " 1573762578564989,\n",
       " 4055809854986653,\n",
       " 3284338620713974,\n",
       " 32670158971267,\n",
       " 8639238455344058,\n",
       " 331894210702338,\n",
       " 4897527194548342,\n",
       " 1901961823136377,\n",
       " 2440543666711881]"
      ]
     },
     "execution_count": 506,
     "metadata": {},
     "output_type": "execute_result"
    }
   ],
   "source": [
    "card_ids = [random.randint(0, int(\"9\" * 16)) for i in range(10)]\n",
    "card_ids"
   ]
  },
  {
   "cell_type": "code",
   "execution_count": 507,
   "metadata": {
    "ExecuteTime": {
     "end_time": "2017-09-17T12:46:19.737074Z",
     "start_time": "2017-09-17T12:46:16.490166Z"
    }
   },
   "outputs": [],
   "source": [
    "card_ids = [\n",
    "    9731875055002762, 7267061812381166, 216436350147307, 1391879415375927,\n",
    "    1573762578564989, 4055809854986653, 3284338620713974, 32670158971267,\n",
    "    8639238455344058, 331894210702338, 4897527194548342, 1901961823136377,\n",
    "    2440543666711881\n",
    "]\n",
    "cards_info = {}\n",
    "female_names = ['Анна', 'Екатерина']\n",
    "male_names = ['Никита', 'Алексей']\n",
    "user_photos = {\n",
    "    'Анна': 'http://f.totruok.ru/Monosnap_2017-09-16_19-53-14.png',\n",
    "    'Екатерина': 'http://f.totruok.ru/Monosnap_2017-09-16_19-47-05.png',\n",
    "    'Никита': 'http://f.totruok.ru/Monosnap_2017-09-16_19-55-29.png',\n",
    "    'Алексей': 'http://f.totruok.ru/Monosnap_2017-09-16_19-55-56.png',\n",
    "}\n",
    "\n",
    "for card_id in card_ids:\n",
    "    user_shopcart = {\n",
    "        i: [get_random_russian_word() for i in range(random.randint(4, 20))]\n",
    "        for i in user_photos.keys()\n",
    "    }\n",
    "    _card = {}\n",
    "    user_shopcart = {\n",
    "        i: [get_random_russian_word() for i in range(random.randint(4, 20))]\n",
    "        for i in user_photos.keys()\n",
    "    }\n",
    "    _card['id'] = card_id\n",
    "    _card['balance'] = random.randint(0, 1000000000)\n",
    "    _card['cur'] = \"RUB\"\n",
    "    _card['owners'] = [\n",
    "        female_names[random.randint(0, len(female_names) - 1)],\n",
    "        male_names[random.randint(0, len(male_names) - 1)]\n",
    "    ]\n",
    "    _transactions = []\n",
    "\n",
    "    for owner in _card['owners']:\n",
    "        # generate simple purchases\n",
    "        for _index in range(1300):\n",
    "            purchases_type = get_random_with_weight(purchase_types)\n",
    "            transaction_date = random.randint(1451606400, 1504224000)\n",
    "            _transaction = {\n",
    "                'TransactionPlace':\n",
    "                purchases_type['name'].replace('*', user_shopcart[owner][\n",
    "                    random.randint(0, len(user_shopcart[owner]) - 1)]),\n",
    "                'TransactionSum':\n",
    "                '-{}'.format(\n",
    "                    random.randint(purchases_type['min'], purchases_type[\n",
    "                        'max'])),\n",
    "                'TransactionDate':\n",
    "                datetime.datetime.fromtimestamp(transaction_date).strftime(\n",
    "                    '%Y.%m.%d'),\n",
    "                'TransactionOwner':\n",
    "                owner,\n",
    "                'TransactionPhotoUrl':\n",
    "                user_photos[owner],\n",
    "                'TransactionSubscrition':\n",
    "                None\n",
    "            }\n",
    "            _transactions.append(_transaction)\n",
    "        # generate income\n",
    "        for _index in range(300):\n",
    "            transaction_date = random.randint(1451606400, 1504224000)\n",
    "            _transaction = {\n",
    "                'TransactionPlace':\n",
    "                'Пополнение',\n",
    "                'TransactionSum':\n",
    "                '+{}'.format(random.randint(100, 100000) * 100),\n",
    "                'TransactionDate':\n",
    "                datetime.datetime.fromtimestamp(transaction_date).strftime(\n",
    "                    '%Y.%m.%d'),\n",
    "                'TransactionOwner':\n",
    "                owner,\n",
    "                'TransactionPhotoUrl':\n",
    "                user_photos[owner],\n",
    "                'TransactionSubscrition':\n",
    "                None\n",
    "            }\n",
    "            _transactions.append(_transaction)\n",
    "    # generate subscribtions purchases\n",
    "    for sub in subscribtion_types:\n",
    "        break_flag = False\n",
    "        for year in range(2015, 2018):\n",
    "            if break_flag:\n",
    "                break\n",
    "            for month in range(1, 13):\n",
    "                if break_flag:\n",
    "                    break\n",
    "                for day in range(1, 32):\n",
    "                    if (year == 2017) and (month == 9) and (day == 1):\n",
    "                        break_flag = True\n",
    "                        break\n",
    "                    if day in sub['payment_days']:\n",
    "                        _transaction = {\n",
    "                            'TransactionPlace':\n",
    "                            sub['name'],\n",
    "                            'TransactionSum':\n",
    "                            '-{}'.format(\n",
    "                                random.randint(sub['min'], sub['max'])),\n",
    "                            'TransactionDate':\n",
    "                            '{}.{:02}.{:02}'.format(year, month, day),\n",
    "                            'TransactionOwner':\n",
    "                            'Автоплатёж',\n",
    "                            'TransactionPhotoUrl':\n",
    "                            'https://i.pinimg.com/originals/9e/e4/a6/9ee4a64469336c1109775f11f25363ff.png',\n",
    "                            'TransactionSubscrition':\n",
    "                            sub\n",
    "                        }\n",
    "                        _transactions.append(_transaction)\n",
    "\n",
    "    random.shuffle(_transactions)\n",
    "    _card['transactions'] = sorted(\n",
    "        _transactions, key=lambda k: k['TransactionDate'], reverse=True)\n",
    "    _card['subscribtions'] = subscribtion_types\n",
    "    cards_info[_card['id']] = _card"
   ]
  },
  {
   "cell_type": "code",
   "execution_count": 508,
   "metadata": {
    "ExecuteTime": {
     "end_time": "2017-09-17T12:46:22.147161Z",
     "start_time": "2017-09-17T12:46:22.071382Z"
    }
   },
   "outputs": [],
   "source": [
    "with open('cards_info.pkl', 'wb') as handle:\n",
    "    pickle.dump(cards_info, handle, protocol=pickle.HIGHEST_PROTOCOL)"
   ]
  },
  {
   "cell_type": "code",
   "execution_count": null,
   "metadata": {
    "collapsed": true
   },
   "outputs": [],
   "source": []
  },
  {
   "cell_type": "code",
   "execution_count": 434,
   "metadata": {
    "ExecuteTime": {
     "end_time": "2017-09-17T11:55:21.653164Z",
     "start_time": "2017-09-17T11:55:21.649084Z"
    }
   },
   "outputs": [
    {
     "data": {
      "text/plain": [
       "2624"
      ]
     },
     "execution_count": 434,
     "metadata": {},
     "output_type": "execute_result"
    }
   ],
   "source": [
    "len(cards_info[9731875055002762]['transactions'])"
   ]
  },
  {
   "cell_type": "code",
   "execution_count": 445,
   "metadata": {
    "ExecuteTime": {
     "end_time": "2017-09-17T12:11:43.176697Z",
     "start_time": "2017-09-17T12:11:43.174225Z"
    }
   },
   "outputs": [],
   "source": [
    "# cards_info[9731875055002762]['transactions']"
   ]
  },
  {
   "cell_type": "code",
   "execution_count": 452,
   "metadata": {
    "ExecuteTime": {
     "end_time": "2017-09-17T12:14:16.073120Z",
     "start_time": "2017-09-17T12:14:16.056717Z"
    }
   },
   "outputs": [],
   "source": [
    "_df = pd.DataFrame(cards_info[7267061812381166]['transactions'])"
   ]
  },
  {
   "cell_type": "code",
   "execution_count": 455,
   "metadata": {
    "ExecuteTime": {
     "end_time": "2017-09-17T12:14:32.574976Z",
     "start_time": "2017-09-17T12:14:32.570646Z"
    }
   },
   "outputs": [
    {
     "data": {
      "text/plain": [
       "Index(['TransactionDate', 'TransactionOwner', 'TransactionPhotoUrl',\n",
       "       'TransactionPlace', 'TransactionSubscrition', 'TransactionSum'],\n",
       "      dtype='object')"
      ]
     },
     "execution_count": 455,
     "metadata": {},
     "output_type": "execute_result"
    }
   ],
   "source": [
    "_df.columns"
   ]
  },
  {
   "cell_type": "code",
   "execution_count": 473,
   "metadata": {
    "ExecuteTime": {
     "end_time": "2017-09-17T12:22:30.560298Z",
     "start_time": "2017-09-17T12:22:30.555996Z"
    },
    "collapsed": true
   },
   "outputs": [],
   "source": [
    "import matplotlib\n",
    "import matplotlib.pyplot as plt\n",
    "%matplotlib inline"
   ]
  },
  {
   "cell_type": "code",
   "execution_count": 477,
   "metadata": {
    "ExecuteTime": {
     "end_time": "2017-09-17T12:25:07.198739Z",
     "start_time": "2017-09-17T12:25:06.824037Z"
    }
   },
   "outputs": [
    {
     "data": {
      "text/plain": [
       "(array([ 31.,  39.,   0.,   0.,   0.,   0.,   0.,   0.,   0.,   0.,   1.,\n",
       "          0.,   0.,   1.,   0.,   0.,   0.,   0.,   0.,   0.,   0.,   0.,\n",
       "          0.,   0.,   0.,   0.,   0.,   1.,   0.,   0.,   1.,   0.,   0.,\n",
       "          1.,   0.,   1.,   0.,   0.,   0.,   0.,   0.,   1.,   0.,   1.,\n",
       "          0.,   0.,   0.,   2.,   0.,   0.,   0.,   0.,   0.,   0.,   0.,\n",
       "          2.,   0.,   0.,   0.,   0.,   0.,   0.,   0.,   0.,   1.,   0.,\n",
       "          0.,   0.,   0.,   0.,   0.,   0.,   0.,   0.,   0.,   0.,   0.,\n",
       "          0.,   0.,   0.,   0.,   1.,   0.,   0.,   0.,   0.,   0.,   0.,\n",
       "          0.,   0.,   0.,   0.,   0.,   0.,   0.,   0.,   0.,   0.,   0.,\n",
       "          1.]),\n",
       " array([ -148759.  ,   -55599.41,    37560.18,   130719.77,   223879.36,\n",
       "          317038.95,   410198.54,   503358.13,   596517.72,   689677.31,\n",
       "          782836.9 ,   875996.49,   969156.08,  1062315.67,  1155475.26,\n",
       "         1248634.85,  1341794.44,  1434954.03,  1528113.62,  1621273.21,\n",
       "         1714432.8 ,  1807592.39,  1900751.98,  1993911.57,  2087071.16,\n",
       "         2180230.75,  2273390.34,  2366549.93,  2459709.52,  2552869.11,\n",
       "         2646028.7 ,  2739188.29,  2832347.88,  2925507.47,  3018667.06,\n",
       "         3111826.65,  3204986.24,  3298145.83,  3391305.42,  3484465.01,\n",
       "         3577624.6 ,  3670784.19,  3763943.78,  3857103.37,  3950262.96,\n",
       "         4043422.55,  4136582.14,  4229741.73,  4322901.32,  4416060.91,\n",
       "         4509220.5 ,  4602380.09,  4695539.68,  4788699.27,  4881858.86,\n",
       "         4975018.45,  5068178.04,  5161337.63,  5254497.22,  5347656.81,\n",
       "         5440816.4 ,  5533975.99,  5627135.58,  5720295.17,  5813454.76,\n",
       "         5906614.35,  5999773.94,  6092933.53,  6186093.12,  6279252.71,\n",
       "         6372412.3 ,  6465571.89,  6558731.48,  6651891.07,  6745050.66,\n",
       "         6838210.25,  6931369.84,  7024529.43,  7117689.02,  7210848.61,\n",
       "         7304008.2 ,  7397167.79,  7490327.38,  7583486.97,  7676646.56,\n",
       "         7769806.15,  7862965.74,  7956125.33,  8049284.92,  8142444.51,\n",
       "         8235604.1 ,  8328763.69,  8421923.28,  8515082.87,  8608242.46,\n",
       "         8701402.05,  8794561.64,  8887721.23,  8980880.82,  9074040.41,\n",
       "         9167200.  ]),\n",
       " <a list of 100 Patch objects>)"
      ]
     },
     "execution_count": 477,
     "metadata": {},
     "output_type": "execute_result"
    },
    {
     "data": {
      "image/png": "[encoded data removed]",
      "text/plain": [
       "<matplotlib.figure.Figure at 0x13cf4fc88>"
      ]
     },
     "metadata": {},
     "output_type": "display_data"
    }
   ],
   "source": [
    "plt.hist(\n",
    "    _df[(_df['TransactionDate'] >= '2017.08.01') &\n",
    "        (_df['TransactionOwner'] == 'Екатерина')]['TransactionSum'].astype(\n",
    "            int),\n",
    "    bins=100)"
   ]
  },
  {
   "cell_type": "code",
   "execution_count": 467,
   "metadata": {
    "ExecuteTime": {
     "end_time": "2017-09-17T12:21:25.176357Z",
     "start_time": "2017-09-17T12:21:25.164197Z"
    }
   },
   "outputs": [
    {
     "data": {
      "text/plain": [
       "70351912"
      ]
     },
     "execution_count": 467,
     "metadata": {},
     "output_type": "execute_result"
    }
   ],
   "source": [
    "_df[(_df['TransactionDate'] >= '2017.08.01') &\n",
    "    (_df['TransactionOwner'] == 'Алексей')]['TransactionSum'].astype(\n",
    "        int).sum()"
   ]
  },
  {
   "cell_type": "code",
   "execution_count": 468,
   "metadata": {
    "ExecuteTime": {
     "end_time": "2017-09-17T12:21:34.202531Z",
     "start_time": "2017-09-17T12:21:34.195037Z"
    }
   },
   "outputs": [
    {
     "data": {
      "text/plain": [
       "57931774"
      ]
     },
     "execution_count": 468,
     "metadata": {},
     "output_type": "execute_result"
    }
   ],
   "source": [
    "_df[(_df['TransactionDate'] >= '2017.08.01') &\n",
    "    (_df['TransactionOwner'] == 'Екатерина')]['TransactionSum'].astype(\n",
    "        int).sum()"
   ]
  },
  {
   "cell_type": "code",
   "execution_count": 488,
   "metadata": {
    "ExecuteTime": {
     "end_time": "2017-09-17T12:39:37.279083Z",
     "start_time": "2017-09-17T12:39:37.275976Z"
    },
    "collapsed": true
   },
   "outputs": [],
   "source": [
    "import collections"
   ]
  },
  {
   "cell_type": "code",
   "execution_count": 502,
   "metadata": {
    "ExecuteTime": {
     "end_time": "2017-09-17T12:45:24.432513Z",
     "start_time": "2017-09-17T12:45:24.422695Z"
    },
    "collapsed": true
   },
   "outputs": [],
   "source": [
    "_df = pd.DataFrame(cards_info[7267061812381166]['transactions'])"
   ]
  },
  {
   "cell_type": "code",
   "execution_count": 503,
   "metadata": {
    "ExecuteTime": {
     "end_time": "2017-09-17T12:45:29.755451Z",
     "start_time": "2017-09-17T12:45:29.748950Z"
    },
    "scrolled": true
   },
   "outputs": [
    {
     "data": {
      "text/plain": [
       "Counter({'АЗС': 83,\n",
       "         'Покупка в супермаркете': 181,\n",
       "         'Покупка зарубщица': 66,\n",
       "         'Покупка канонада': 67,\n",
       "         'Покупка мензурка': 73,\n",
       "         'Покупка народничество': 85,\n",
       "         'Покупка нивх': 70,\n",
       "         'Покупка полировщик': 76,\n",
       "         'Покупка раунд': 74,\n",
       "         'Покупка сглаживание': 83,\n",
       "         'Пополнение': 300,\n",
       "         'Снятие наличных': 442})"
      ]
     },
     "execution_count": 503,
     "metadata": {},
     "output_type": "execute_result"
    }
   ],
   "source": [
    "collections.Counter(_df[_df['TransactionOwner'] == 'Екатерина']['TransactionPlace'])"
   ]
  },
  {
   "cell_type": "code",
   "execution_count": 497,
   "metadata": {
    "ExecuteTime": {
     "end_time": "2017-09-17T12:42:57.329470Z",
     "start_time": "2017-09-17T12:42:57.323267Z"
    }
   },
   "outputs": [
    {
     "data": {
      "text/plain": [
       "['Анна', 'Алексей']"
      ]
     },
     "execution_count": 497,
     "metadata": {},
     "output_type": "execute_result"
    }
   ],
   "source": [
    "cards_info[9731875055002762]['owners']"
   ]
  },
  {
   "cell_type": "code",
   "execution_count": null,
   "metadata": {
    "collapsed": true
   },
   "outputs": [],
   "source": []
  },
  {
   "cell_type": "code",
   "execution_count": 509,
   "metadata": {
    "ExecuteTime": {
     "end_time": "2017-09-17T12:46:26.743047Z",
     "start_time": "2017-09-17T12:46:26.522587Z"
    },
    "scrolled": true
   },
   "outputs": [
    {
     "name": "stdout",
     "output_type": "stream",
     "text": [
      "9731875055002762_Екатерина\n",
      "Counter({'Снятие наличных': 406, 'Пополнение': 300, 'Покупка в супермаркете': 182, 'АЗС': 86, 'Покупка осиливание': 69, 'Покупка подрезание': 48, 'Покупка виртуальность': 44, 'Покупка пожатие': 43, 'Покупка трюк': 41, 'Покупка ипохондрик': 40, 'Покупка генерал-директор': 38, 'Покупка зерноочистка': 38, 'Покупка сусальность': 36, 'Покупка градус': 35, 'Покупка раскуривание': 34, 'Покупка портвейн': 34, 'Покупка взмах': 33, 'Покупка металл': 32, 'Покупка интерпретация': 31, 'Покупка мензурка': 30})\n",
      "9731875055002762_Алексей\n",
      "Counter({'Снятие наличных': 397, 'Пополнение': 300, 'Покупка в супермаркете': 189, 'АЗС': 89, 'Покупка интерпретация': 68, 'Покупка зарубщица': 61, 'Покупка сглаживание': 53, 'Покупка кощей': 40, 'Покупка трюк': 40, 'Покупка кинокамера': 39, 'Покупка разоритель': 37, 'Покупка сурепица': 36, 'Покупка генерал-директор': 36, 'Покупка звукоусиление': 36, 'Покупка раскуривание': 32, 'Покупка мензурка': 31, 'Покупка подтушёвывание': 27, 'Покупка пристрастие': 26, 'Покупка полировщик': 25, 'Покупка бикс': 21, 'Покупка взмах': 17})\n",
      "7267061812381166_Екатерина\n",
      "Counter({'Снятие наличных': 411, 'Пополнение': 300, 'Покупка в супермаркете': 181, 'Покупка раунд': 100, 'Покупка переключение': 84, 'АЗС': 81, 'Покупка трюк': 75, 'Покупка разоритель': 74, 'Покупка пожатие': 39, 'Покупка виртуальность': 38, 'Покупка зерноочистка': 38, 'Покупка подтушёвывание': 34, 'Покупка сорокоуст': 34, 'Покупка иступление': 30, 'Покупка шала': 30, 'Покупка брусника': 27, 'Покупка канонада': 24})\n",
      "7267061812381166_Алексей\n",
      "Counter({'Снятие наличных': 419, 'Пополнение': 300, 'Покупка в супермаркете': 167, 'Покупка подрезание': 116, 'Покупка консьерж': 109, 'Покупка осиливание': 107, 'Покупка интерпретация': 100, 'АЗС': 99, 'Покупка канонада': 97, 'Покупка ипохондрик': 86})\n",
      "216436350147307_Анна\n",
      "Counter({'Снятие наличных': 417, 'Покупка разоритель': 303, 'Пополнение': 300, 'Покупка в супермаркете': 183, 'Покупка сглаживание': 169, 'Покупка сурепица': 137, 'АЗС': 91})\n",
      "216436350147307_Алексей\n",
      "Counter({'Снятие наличных': 444, 'Пополнение': 300, 'Покупка в супермаркете': 196, 'Покупка шала': 106, 'АЗС': 98, 'Покупка интерпретация': 96, 'Покупка генерал-директор': 95, 'Покупка сглаживание': 94, 'Покупка невольник': 87, 'Покупка осиливание': 84})\n",
      "1391879415375927_Екатерина\n",
      "Counter({'Снятие наличных': 451, 'Пополнение': 300, 'Покупка в супермаркете': 172, 'Покупка виртуальность': 117, 'Покупка кощей': 107, 'Покупка притворство': 104, 'Покупка иступление': 96, 'Покупка подтушёвывание': 93, 'Покупка народничество': 85, 'АЗС': 75})\n",
      "1391879415375927_Алексей\n",
      "Counter({'Снятие наличных': 407, 'Пополнение': 300, 'Покупка в супермаркете': 168, 'Покупка зерноочистка': 108, 'Покупка интерпретация': 103, 'АЗС': 95, 'Покупка подрезание': 70, 'Покупка брусника': 65, 'Покупка притворство': 60, 'Покупка раскуривание': 60, 'Покупка иступление': 58, 'Покупка трюк': 54, 'Покупка взмах': 52})\n",
      "1573762578564989_Анна\n",
      "Counter({'Снятие наличных': 387, 'Пополнение': 300, 'Покупка в супермаркете': 185, 'Покупка зарубщица': 98, 'Покупка пристрастие': 96, 'Покупка сглаживание': 95, 'Покупка брусника': 92, 'АЗС': 92, 'Покупка невольник': 86, 'Покупка металл': 85, 'Покупка переключение': 84})\n",
      "1573762578564989_Алексей\n",
      "Counter({'Снятие наличных': 415, 'Пополнение': 300, 'Покупка в супермаркете': 168, 'АЗС': 89, 'Покупка взмах': 85, 'Покупка шала': 77, 'Покупка пристрастие': 72, 'Покупка металл': 71, 'Покупка осиливание': 69, 'Покупка виртуальность': 68, 'Покупка раунд': 65, 'Покупка народничество': 63, 'Покупка нивх': 58})\n",
      "4055809854986653_Екатерина\n",
      "Counter({'Снятие наличных': 468, 'Пополнение': 300, 'Покупка в супермаркете': 176, 'Покупка сглаживание': 155, 'Покупка звукоусиление': 155, 'Покупка шала': 148, 'Покупка портвейн': 120, 'АЗС': 78})\n",
      "4055809854986653_Никита\n",
      "Counter({'Снятие наличных': 441, 'Пополнение': 300, 'Покупка в супермаркете': 175, 'Покупка сусальность': 113, 'Покупка кинокамера': 106, 'Покупка трюк': 104, 'Покупка портвейн': 97, 'Покупка разоритель': 95, 'Покупка интерпретация': 88, 'АЗС': 81})\n",
      "3284338620713974_Екатерина\n",
      "Counter({'Снятие наличных': 407, 'Пополнение': 300, 'Покупка в супермаркете': 179, 'АЗС': 94, 'Покупка иступление': 77, 'Покупка притворство': 71, 'Покупка раунд': 70, 'Покупка металл': 63, 'Покупка канонада': 48, 'Покупка храбрейший': 43, 'Покупка разоритель': 40, 'Покупка консьерж': 36, 'Покупка мензурка': 31, 'Покупка сглаживание': 30, 'Покупка виртуальность': 29, 'Покупка полировщик': 29, 'Покупка зарубщица': 27, 'Покупка кинокамера': 26})\n",
      "3284338620713974_Никита\n",
      "Counter({'Снятие наличных': 448, 'Пополнение': 300, 'Покупка в супермаркете': 167, 'АЗС': 79, 'Покупка сусальность': 72, 'Покупка нивх': 42, 'Покупка невольник': 38, 'Покупка сурепица': 37, 'Покупка осиливание': 37, 'Покупка подрезание': 36, 'Покупка храбрейший': 36, 'Покупка взмах': 34, 'Покупка генерал-директор': 33, 'Покупка раунд': 33, 'Покупка пристрастие': 32, 'Покупка иступление': 32, 'Покупка брусника': 31, 'Покупка шала': 31, 'Покупка консьерж': 29, 'Покупка раскуривание': 29, 'Покупка виртуальность': 24})\n",
      "32670158971267_Екатерина\n",
      "Counter({'Снятие наличных': 459, 'Пополнение': 300, 'Покупка металл': 252, 'Покупка в супермаркете': 175, 'Покупка подтушёвывание': 93, 'Покупка раскуривание': 86, 'Покупка кинокамера': 83, 'Покупка храбрейший': 83, 'АЗС': 69})\n",
      "32670158971267_Никита\n",
      "Counter({'Снятие наличных': 409, 'Пополнение': 300, 'Покупка в супермаркете': 174, 'Покупка кинокамера': 88, 'Покупка сусальность': 85, 'АЗС': 85, 'Покупка раскуривание': 82, 'Покупка генерал-директор': 80, 'Покупка сорокоуст': 76, 'Покупка народничество': 75, 'Покупка виртуальность': 73, 'Покупка мензурка': 73})\n",
      "8639238455344058_Екатерина\n",
      "Counter({'Снятие наличных': 433, 'Пополнение': 300, 'Покупка нивх': 191, 'Покупка в супермаркете': 179, 'Покупка кощей': 113, 'Покупка канонада': 109, 'Покупка раунд': 101, 'Покупка виртуальность': 90, 'АЗС': 84})\n",
      "8639238455344058_Алексей\n",
      "Counter({'Снятие наличных': 445, 'Пополнение': 300, 'Покупка в супермаркете': 164, 'Покупка сглаживание': 111, 'Покупка интерпретация': 110, 'Покупка виртуальность': 97, 'Покупка мензурка': 97, 'Покупка звукоусиление': 95, 'АЗС': 94, 'Покупка трюк': 87})\n",
      "331894210702338_Анна\n",
      "Counter({'Снятие наличных': 444, 'Пополнение': 300, 'Покупка в супермаркете': 166, 'Покупка брусника': 126, 'Покупка кощей': 124, 'Покупка взмах': 123, 'Покупка пристрастие': 122, 'Покупка нивх': 111, 'АЗС': 84})\n",
      "331894210702338_Алексей\n",
      "Counter({'Снятие наличных': 474, 'Пополнение': 300, 'Покупка в супермаркете': 170, 'Покупка сусальность': 156, 'Покупка народничество': 146, 'Покупка канонада': 142, 'Покупка полировщик': 133, 'АЗС': 79})\n",
      "4897527194548342_Анна\n",
      "Counter({'Снятие наличных': 429, 'Пополнение': 300, 'Покупка в супермаркете': 186, 'АЗС': 97, 'Покупка подрезание': 76, 'Покупка иступление': 67, 'Покупка канонада': 55, 'Покупка пристрастие': 53, 'Покупка сглаживание': 36, 'Покупка консьерж': 36, 'Покупка зарубщица': 33, 'Покупка взмах': 32, 'Покупка бикс': 31, 'Покупка зерноочистка': 31, 'Покупка звукоусиление': 30, 'Покупка кощей': 30, 'Покупка кинокамера': 28, 'Покупка ипохондрик': 26, 'Покупка разоритель': 24})\n",
      "4897527194548342_Алексей\n",
      "Counter({'Снятие наличных': 429, 'Пополнение': 300, 'Покупка в супермаркете': 170, 'Покупка интерпретация': 112, 'Покупка разоритель': 103, 'Покупка невольник': 96, 'Покупка брусника': 88, 'Покупка подтушёвывание': 87, 'АЗС': 77, 'Покупка звукоусиление': 71, 'Покупка шала': 67})\n",
      "1901961823136377_Екатерина\n",
      "Counter({'Снятие наличных': 433, 'Пополнение': 300, 'Покупка в супермаркете': 187, 'АЗС': 82, 'Покупка мензурка': 75, 'Покупка кинокамера': 71, 'Покупка переключение': 67, 'Покупка интерпретация': 55, 'Покупка генерал-директор': 44, 'Покупка осиливание': 41, 'Покупка зарубщица': 36, 'Покупка храбрейший': 36, 'Покупка трюк': 33, 'Покупка пристрастие': 33, 'Покупка зерноочистка': 28, 'Покупка шала': 28, 'Покупка иступление': 26, 'Покупка нивх': 25})\n",
      "1901961823136377_Алексей\n",
      "Counter({'Снятие наличных': 472, 'Пополнение': 300, 'Покупка в супермаркете': 178, 'АЗС': 85, 'Покупка народничество': 75, 'Покупка интерпретация': 67, 'Покупка металл': 62, 'Покупка сусальность': 60, 'Покупка подтушёвывание': 60, 'Покупка пристрастие': 59, 'Покупка виртуальность': 43, 'Покупка кощей': 32, 'Покупка портвейн': 29, 'Покупка кинокамера': 28, 'Покупка раскуривание': 26, 'Покупка канонада': 24})\n",
      "2440543666711881_Анна\n",
      "Counter({'Снятие наличных': 462, 'Пополнение': 300, 'Покупка в супермаркете': 165, 'Покупка брусника': 115, 'Покупка бикс': 109, 'АЗС': 100, 'Покупка сусальность': 80, 'Покупка зерноочистка': 71, 'Покупка нивх': 61, 'Покупка ипохондрик': 51, 'Покупка сурепица': 49, 'Покупка храбрейший': 37})\n",
      "2440543666711881_Алексей\n",
      "Counter({'Снятие наличных': 431, 'Пополнение': 300, 'Покупка в супермаркете': 184, 'Покупка раунд': 89, 'АЗС': 88, 'Покупка зерноочистка': 66, 'Покупка сглаживание': 51, 'Покупка народничество': 41, 'Покупка сурепица': 36, 'Покупка раскуривание': 35, 'Покупка кощей': 35, 'Покупка взмах': 35, 'Покупка сорокоуст': 34, 'Покупка пристрастие': 31, 'Покупка храбрейший': 31, 'Покупка градус': 30, 'Покупка брусника': 29, 'Покупка канонада': 27, 'Покупка сусальность': 27})\n"
     ]
    }
   ],
   "source": [
    "users = {}\n",
    "\n",
    "for card in card_ids:\n",
    "    real_user_name = [\n",
    "        \"{}_{}\".format(card, i) for i in cards_info[card]['owners']\n",
    "    ]\n",
    "    for i in real_user_name:\n",
    "        print(i)\n",
    "        _df = pd.DataFrame(cards_info[card]['transactions'])\n",
    "        users[i] = collections.Counter(_df[_df['TransactionOwner'] == i.split(\n",
    "            '_')[-1]]['TransactionPlace'])\n",
    "        print(users[i])"
   ]
  },
  {
   "cell_type": "code",
   "execution_count": 522,
   "metadata": {
    "ExecuteTime": {
     "end_time": "2017-09-17T12:50:38.982362Z",
     "start_time": "2017-09-17T12:50:38.979007Z"
    }
   },
   "outputs": [],
   "source": [
    "# сделать расстояние между пользователями\n",
    "def user_distance(user1, user2):\n",
    "    return np.sum(list((users[user1] - users[user2]).values()))"
   ]
  },
  {
   "cell_type": "code",
   "execution_count": 524,
   "metadata": {
    "ExecuteTime": {
     "end_time": "2017-09-17T12:52:32.341391Z",
     "start_time": "2017-09-17T12:52:32.178646Z"
    },
    "collapsed": true
   },
   "outputs": [],
   "source": [
    "from sklearn.ensemble import RandomForestClassifier\n",
    "clf = RandomForestClassifier(n_estimators=10)\n",
    "clf = clf.fit(X, Y)"
   ]
  },
  {
   "cell_type": "code",
   "execution_count": null,
   "metadata": {
    "collapsed": true
   },
   "outputs": [],
   "source": []
  }
 ],
 "metadata": {
  "kernelspec": {
   "display_name": "Python 3",
   "language": "python",
   "name": "python3"
  },
  "language_info": {
   "codemirror_mode": {
    "name": "ipython",
    "version": 3
   },
   "file_extension": ".py",
   "mimetype": "text/x-python",
   "name": "python",
   "nbconvert_exporter": "python",
   "pygments_lexer": "ipython3",
   "version": "3.6.2"
  },
  "varInspector": {
   "cols": {
    "lenName": 16,
    "lenType": 16,
    "lenVar": 40
   },
   "kernels_config": {
    "python": {
     "delete_cmd_postfix": "",
     "delete_cmd_prefix": "del ",
     "library": "var_list.py",
     "varRefreshCmd": "print(var_dic_list())"
    },
    "r": {
     "delete_cmd_postfix": ") ",
     "delete_cmd_prefix": "rm(",
     "library": "var_list.r",
     "varRefreshCmd": "cat(var_dic_list()) "
    }
   },
   "types_to_exclude": [
    "module",
    "function",
    "builtin_function_or_method",
    "instance",
    "_Feature"
   ],
   "window_display": false
  }
 },
 "nbformat": 4,
 "nbformat_minor": 2
}
